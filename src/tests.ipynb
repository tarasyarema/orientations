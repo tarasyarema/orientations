{
 "cells": [
  {
   "cell_type": "markdown",
   "metadata": {},
   "source": [
    "- `subdivide`\n",
    "- `gomory_hu` should be `gomory_hu_tree`\n",
    "- `ght_local_conn` should be `local_connectivity`\n",
    "- `local_edge_connectivity` should be `connectivity`\n",
    "- `max_violation` should be `max_connectivity_violation`\n",
    "- `split_off_attempt` should be `splitting_off_to_capacity`\n",
    "- `get_indicator`\n",
    "- `split_off` should be `complete_splitting_off`\n",
    "\n",
    "#### TODO\n",
    "\n",
    "- `lovasz_simplification` should be `lovasz_decomposition`\n",
    "- `random_orientation`\n",
    "- `lovasz_orientation` should be `orientation`\n",
    "- `EnOPODS`\n",
    "- `out_degree_sequence`\n",
    "- `eo_algo_2` can be removed\n",
    "- `_bfs`\n",
    "- `_reverse`\n",
    "- `is_flippable`\n",
    "- `EnODS` can be removed\n",
    "- `reverse_neg`\n",
    "- `reverse_pos`\n",
    "- `EnODS2`\n",
    "- `eo_algo_3` can be removed\n",
    "- `eo_algo_4` should be `k_orientations_iterator`"
   ]
  },
  {
   "cell_type": "code",
   "execution_count": 1,
   "metadata": {},
   "outputs": [],
   "source": [
    "from sys import exit\n",
    "from pathlib import Path\n",
    "\n",
    "# Import the actual lib\n",
    "load(f'{Path.cwd()}/lib.sage')"
   ]
  },
  {
   "cell_type": "markdown",
   "metadata": {},
   "source": [
    "### `subdivide` test"
   ]
  },
  {
   "cell_type": "code",
   "execution_count": 2,
   "metadata": {},
   "outputs": [
    {
     "name": "stdout",
     "output_type": "stream",
     "text": [
      "subdivide: OK\n"
     ]
    }
   ],
   "source": [
    "try:\n",
    "    # Given a multi-graph with two vertices\n",
    "    # and n edges between them, the subdivided graph\n",
    "    # should have 2 + n vertices 2 * n edges.\n",
    "    # Also we should be able to make the graph simple\n",
    "    \n",
    "    for n in range(2, 11):\n",
    "        u, v = 1, 2\n",
    "        edges = [(u, v) for _ in range(n)]\n",
    "        \n",
    "        g = Graph({u: [v for _ in range(n)]})\n",
    "        \n",
    "        assert len(g) == 2\n",
    "        assert len(g.edges()) == n\n",
    "        \n",
    "        new_g, added = subdivide(g)\n",
    "        \n",
    "        assert len(new_g) == 2 + n\n",
    "        assert len(new_g.edges()) == 2 * n\n",
    "        \n",
    "        new_g.allow_multiple_edges(True)\n",
    "        \n",
    "        # Check that for all added vertices v_i we have the\n",
    "        # wanted edges {u, v_i}, {v_i, v}\n",
    "        for added_v in added:\n",
    "            assert new_g.has_edge(u, added_v) and new_g.has_edge(added_v, v)\n",
    "except Exception as e:\n",
    "    print(f\"subdivide: FAIL {e}\")\n",
    "    exit(1)\n",
    "    \n",
    "print(\"subdivide: OK\")"
   ]
  },
  {
   "cell_type": "markdown",
   "metadata": {},
   "source": [
    "### `gomory_hu` tests"
   ]
  },
  {
   "cell_type": "code",
   "execution_count": 3,
   "metadata": {},
   "outputs": [
    {
     "name": "stdout",
     "output_type": "stream",
     "text": [
      "gomory_hu: OK\n"
     ]
    }
   ],
   "source": [
    "try:\n",
    "    # First of all, for a simple graph we should be able to\n",
    "    # call gomory_hu and get the same resulting tree\n",
    "    \n",
    "    for n in range(3, 10):\n",
    "        g = graphs.CompleteGraph(n)\n",
    "        assert gomory_hu(g) == g.gomory_hu_tree()\n",
    "    \n",
    "    # If the given graph is multiedged it should\n",
    "    # handle this correctly and keep edge-connectivity\n",
    "    n = 5\n",
    "    g = graphs.CompleteGraph(n)\n",
    "    \n",
    "    k = g.edge_connectivity()\n",
    "    g.allow_multiple_edges(True)\n",
    "    \n",
    "    # We add a n = 5 new edges we should\n",
    "    # making the \\lambda_G'(u, v) = \\lambda_G(u, v) + 1\n",
    "    for u, v, _ in g.edges()[:n]:\n",
    "        g.add_edge(u, v, None)\n",
    "            \n",
    "    t = gomory_hu(g)\n",
    "    new_k = min(w for _, _, w in t.edges())\n",
    "    \n",
    "    assert new_k == k + 1\n",
    "except Exception as e:\n",
    "    print(f\"gomory_hu: FAIL {e}\")\n",
    "    exit(1)\n",
    "    \n",
    "print(\"gomory_hu: OK\")"
   ]
  },
  {
   "cell_type": "markdown",
   "metadata": {},
   "source": [
    "### connectivity tests"
   ]
  },
  {
   "cell_type": "code",
   "execution_count": 4,
   "metadata": {},
   "outputs": [
    {
     "name": "stdout",
     "output_type": "stream",
     "text": [
      "connectivity: OK\n"
     ]
    }
   ],
   "source": [
    "n = 7\n",
    "\n",
    "try:\n",
    "    # For a K(n) we have that\n",
    "    # \\lambda(u, v) = n - 1, for all u, v\n",
    "    g = graphs.CompleteGraph(n)\n",
    "    \n",
    "    for u in g:\n",
    "        for v in g:\n",
    "            if u == v:\n",
    "                continue\n",
    "            \n",
    "            assert len(g.edge_disjoint_paths(u, v)) == n - 1\n",
    "    \n",
    "    g.allow_multiple_edges(True)\n",
    "    \n",
    "    for u, v, _ in g.edges()[:n]:\n",
    "        g.add_edge(u, v, None)\n",
    "            \n",
    "    t = gomory_hu(g)\n",
    "    \n",
    "    conn = None\n",
    "    \n",
    "    # We now check that for all pairs {u, v}\n",
    "    # the local edge connectivity is at least n\n",
    "    for u in t:\n",
    "        for v in t:\n",
    "            if u == v:\n",
    "                continue\n",
    "                \n",
    "            current = ght_local_conn(t, u, v)\n",
    "            conn = current if conn is None or current <= conn else conn\n",
    "            \n",
    "            assert current >= n\n",
    "            \n",
    "    # Check connectivity of the whole graph\n",
    "    # via Gomory-Hu tree returns correct results.\n",
    "    # \n",
    "    # We will use the NetworkX function to check it\n",
    "    # as it supports multi-graphs.\n",
    "    from networkx import edge_connectivity\n",
    "    \n",
    "    got = local_edge_connectivity(g)\n",
    "    want = edge_connectivity(g.networkx_graph())\n",
    "    \n",
    "    assert conn == got and got == want\n",
    "except Exception as e:\n",
    "    print(f\"connectivity: FAIL {e}\")\n",
    "    exit(1)\n",
    "    \n",
    "print(\"connectivity: OK\")"
   ]
  },
  {
   "cell_type": "markdown",
   "metadata": {},
   "source": [
    "### splitting-off tests"
   ]
  },
  {
   "cell_type": "code",
   "execution_count": 5,
   "metadata": {},
   "outputs": [
    {
     "name": "stdout",
     "output_type": "stream",
     "text": [
      "splitting-off: OK\n"
     ]
    }
   ],
   "source": [
    "n = 7\n",
    "\n",
    "try:\n",
    "    g = graphs.CompleteGraph(n)\n",
    "    \n",
    "    # We will remove one edge of the fisrt \n",
    "    # vertex and we will see that the\n",
    "    # connectivity violation is 1\n",
    "    before_conn = g.edge_connectivity()\n",
    "    \n",
    "    edge = g.edges()[0]\n",
    "    g.delete_edge(edge)\n",
    "    \n",
    "    # We can pick any vertex as indicator\n",
    "    indicator = g.vertices()[0]\n",
    "    t = g.gomory_hu_tree()\n",
    "    \n",
    "    violation = max_violation(g, t, indicator, indicator, before_conn)\n",
    "    assert violation == 1\n",
    "    \n",
    "    # Now we will check that the splitting-off\n",
    "    # to capacity works.\n",
    "    #\n",
    "    # We want that for a given req the graph\n",
    "    # after splitting to capacity the pair {2, 3}\n",
    "    # satisfies the req.\n",
    "    g = Graph({1: [2, 2, 2, 2, 3, 3, 3], 4: [2, 2, 3, 3]})\n",
    "    \n",
    "    # The initial connectivity of g will\n",
    "    # be the requirement, i.e. its global.\n",
    "    req = local_edge_connectivity(g)\n",
    "    \n",
    "    # We split-off 1 and pick 4 as indicator\n",
    "    x, indicator = 1, 4\n",
    "    \n",
    "    # Here we split-off to capcacity\n",
    "    cap = split_off_attempt(g, x, indicator, req, candidates=(2, 3))\n",
    "    for _ in range(cap):\n",
    "        g.delete_edges([(1, 2), (1, 3)])\n",
    "        g.add_edge(2, 3)\n",
    "    \n",
    "    \n",
    "    # Compute the minimum local edge-connectivity\n",
    "    # of the resulting graph via all vertex pairs\n",
    "    # that do not contain x\n",
    "    t = gomory_hu(g)\n",
    "    after_conn = None\n",
    "    \n",
    "    for u in g:\n",
    "        for v in g:\n",
    "            if u == v or x in (u, v):\n",
    "                continue\n",
    "                \n",
    "            l_conn = ght_local_conn(t, u, v)\n",
    "            \n",
    "            if after_conn is None or l_conn <= after_conn:\n",
    "                after_conn = l_conn\n",
    "    \n",
    "    assert req == l_conn\n",
    "    \n",
    "    # Now we finally test the complete splitting-off at x.\n",
    "    g = graphs.CompleteGraph(n)\n",
    "    \n",
    "    # We know that, for even n, all vertices at g = K(n) have degree n - 1.\n",
    "    # If we pick k = (n - 1) // 2, then we know that g has a vertex\n",
    "    # of 2k and hence a complete splitting-off in it.\n",
    "    req = g.edge_connectivity()\n",
    "    g.allow_multiple_edges(True)\n",
    "    \n",
    "    # We may pick any x\n",
    "    x = g.vertices()[0]\n",
    "    \n",
    "    split_off(g, x, req)\n",
    "    \n",
    "    # Check that the edge connectivity after the\n",
    "    # complete splitting-off is preserved.\n",
    "    after_conn = local_edge_connectivity(g)\n",
    "    assert req == after_conn\n",
    "except Exception as e:\n",
    "    print(f\"splitting-off: FAIL {e}\")\n",
    "    raise e\n",
    "    exit(1)\n",
    "    \n",
    "print(\"splitting-off: OK\")"
   ]
  },
  {
   "cell_type": "code",
   "execution_count": null,
   "metadata": {},
   "outputs": [],
   "source": []
  }
 ],
 "metadata": {
  "kernelspec": {
   "display_name": "SageMath 9.1",
   "language": "sage",
   "name": "sagemath"
  },
  "language_info": {
   "codemirror_mode": {
    "name": "ipython",
    "version": 3
   },
   "file_extension": ".py",
   "mimetype": "text/x-python",
   "name": "python",
   "nbconvert_exporter": "python",
   "pygments_lexer": "ipython3",
   "version": "3.7.3"
  }
 },
 "nbformat": 4,
 "nbformat_minor": 4
}
